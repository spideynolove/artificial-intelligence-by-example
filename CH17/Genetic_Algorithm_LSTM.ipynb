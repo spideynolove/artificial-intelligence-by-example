{
  "nbformat": 4,
  "nbformat_minor": 0,
  "metadata": {
    "kernelspec": {
      "name": "python3",
      "display_name": "Python 3"
    },
    "language_info": {
      "codemirror_mode": {
        "name": "ipython",
        "version": 3
      },
      "file_extension": ".py",
      "mimetype": "text/x-python",
      "name": "python",
      "nbconvert_exporter": "python",
      "pygments_lexer": "ipython3",
      "version": "3.5.3"
    },
    "colab": {
      "name": "Genetic-Algorithm-LSTM.ipynb",
      "provenance": [],
      "collapsed_sections": []
    },
    "accelerator": "GPU"
  },
  "cells": [
    {
      "cell_type": "markdown",
      "metadata": {
        "id": "v7cP8t8mEXsp",
        "colab_type": "text"
      },
      "source": [
        "### Optimizing RNN using Genetic Algorithm "
      ]
    },
    {
      "cell_type": "markdown",
      "metadata": {
        "id": "Z6VW1YmBEXsr",
        "colab_type": "text"
      },
      "source": [
        "#### Importing required packages"
      ]
    },
    {
      "cell_type": "code",
      "metadata": {
        "id": "SfFSvEwDGDy3",
        "colab_type": "code",
        "outputId": "73430628-ee03-4c9b-feec-45f211b87736",
        "colab": {
          "base_uri": "https://localhost:8080/",
          "height": 119
        }
      },
      "source": [
        "!pip install deap"
      ],
      "execution_count": 0,
      "outputs": [
        {
          "output_type": "stream",
          "text": [
            "Collecting deap\n",
            "\u001b[?25l  Downloading https://files.pythonhosted.org/packages/81/98/3166fb5cfa47bf516e73575a1515734fe3ce05292160db403ae542626b32/deap-1.3.0-cp36-cp36m-manylinux2010_x86_64.whl (151kB)\n",
            "\u001b[K     |████████████████████████████████| 153kB 6.8MB/s \n",
            "\u001b[?25hRequirement already satisfied: numpy in /usr/local/lib/python3.6/dist-packages (from deap) (1.16.5)\n",
            "Installing collected packages: deap\n",
            "Successfully installed deap-1.3.0\n"
          ],
          "name": "stdout"
        }
      ]
    },
    {
      "cell_type": "code",
      "metadata": {
        "id": "X8TMoirqGpEo",
        "colab_type": "code",
        "outputId": "b391e5b0-f783-4836-e57b-bb913c02ae63",
        "colab": {
          "base_uri": "https://localhost:8080/",
          "height": 85
        }
      },
      "source": [
        "!pip install bitstring"
      ],
      "execution_count": 0,
      "outputs": [
        {
          "output_type": "stream",
          "text": [
            "Collecting bitstring\n",
            "  Downloading https://files.pythonhosted.org/packages/c7/b9/ce7458b35633968eae3477a201a00f6c8e01cab0ccb200ea5099d41dd977/bitstring-3.1.6-py3-none-any.whl\n",
            "Installing collected packages: bitstring\n",
            "Successfully installed bitstring-3.1.6\n"
          ],
          "name": "stdout"
        }
      ]
    },
    {
      "cell_type": "code",
      "metadata": {
        "id": "R4yL2aYREXst",
        "colab_type": "code",
        "colab": {}
      },
      "source": [
        "import numpy as np\n",
        "import pandas as pd\n",
        "from sklearn.metrics import mean_squared_error\n",
        "from sklearn.model_selection import train_test_split as split\n",
        "\n",
        "from tensorflow.keras.layers import LSTM, Input, Dense\n",
        "from tensorflow.keras.models import Model\n",
        "\n",
        "from deap import base, creator, tools, algorithms\n",
        "from scipy.stats import bernoulli\n",
        "from bitstring import BitArray\n",
        "\n",
        "np.random.seed(1120)"
      ],
      "execution_count": 0,
      "outputs": []
    },
    {
      "cell_type": "code",
      "metadata": {
        "id": "w8mHU56dE2er",
        "colab_type": "code",
        "colab": {}
      },
      "source": [
        "import os\n",
        "img_dir = '/tmp/nst'\n",
        "if not os.path.exists(img_dir):\n",
        "    os.makedirs(img_dir)"
      ],
      "execution_count": 0,
      "outputs": []
    },
    {
      "cell_type": "markdown",
      "metadata": {
        "id": "vAz1i7VMgFkm",
        "colab_type": "text"
      },
      "source": [
        "### Collecting the data\n"
      ]
    },
    {
      "cell_type": "code",
      "metadata": {
        "id": "7c_On5F7E4Ds",
        "colab_type": "code",
        "colab": {}
      },
      "source": [
        "fget=1\n",
        "if fget>0:\n",
        "  !wget --quiet -P /tmp/nst/ https://eco-ai-horizons.com/img/train.csv\n",
        "fn=img_dir+'/train.csv'"
      ],
      "execution_count": 0,
      "outputs": []
    },
    {
      "cell_type": "markdown",
      "metadata": {
        "id": "-F0G5igKEXsz",
        "colab_type": "text"
      },
      "source": [
        "#### Reading dataset and using first 17,257 points as training/validation and rest of the 1500 points as test set."
      ]
    },
    {
      "cell_type": "code",
      "metadata": {
        "id": "xNX8b0ytEXs0",
        "colab_type": "code",
        "colab": {}
      },
      "source": [
        "data = pd.read_csv(fn)\n",
        "data = np.reshape(np.array(data['wp1']),(len(data['wp1']),1))\n",
        "\n",
        "train_data = data[0:17257]\n",
        "test_data = data[17257:]"
      ],
      "execution_count": 0,
      "outputs": []
    },
    {
      "cell_type": "markdown",
      "metadata": {
        "id": "FkJdlgMHEXs6",
        "colab_type": "text"
      },
      "source": [
        "#### Defining the basic Functions"
      ]
    },
    {
      "cell_type": "code",
      "metadata": {
        "id": "_uOsTtV0EXs7",
        "colab_type": "code",
        "colab": {}
      },
      "source": [
        "def prepare_dataset(data, window_size):\n",
        "    X, Y = np.empty((0,window_size)), np.empty((0))\n",
        "    for i in range(len(data)-window_size-1):\n",
        "        X = np.vstack([X,data[i:(i + window_size),0]])\n",
        "        Y = np.append(Y,data[i + window_size,0])   \n",
        "    X = np.reshape(X,(len(X),window_size,1))\n",
        "    Y = np.reshape(Y,(len(Y),1))\n",
        "    return X, Y\n",
        "\n",
        "def train_evaluate(ga_individual_solution):   \n",
        "    # Decode GA solution to integer for window_size and num_units\n",
        "    window_size_bits = BitArray(ga_individual_solution[0:6])\n",
        "    num_units_bits = BitArray(ga_individual_solution[6:]) \n",
        "    window_size = window_size_bits.uint\n",
        "    num_units = num_units_bits.uint\n",
        "    print('\\nWindow Size: ', window_size, ', Num of Units: ', num_units)\n",
        "    \n",
        "    # Return fitness score of 100 if window_size or num_unit is zero\n",
        "    if window_size == 0 or num_units == 0:\n",
        "        return 100, \n",
        "    \n",
        "    # Segment the train_data based on new window_size; split into train and validation (80/20)\n",
        "    X,Y = prepare_dataset(train_data,window_size)\n",
        "    X_train, X_val, y_train, y_val = split(X, Y, test_size = 0.20, random_state = 1120)\n",
        "    \n",
        "    # Train LSTM model and predict on validation set\n",
        "    inputs = Input(shape=(window_size,1))\n",
        "    x = LSTM(num_units, input_shape=(window_size,1))(inputs)\n",
        "    predictions = Dense(1, activation='linear')(x)\n",
        "    model = Model(inputs=inputs, outputs=predictions)\n",
        "    model.compile(optimizer='adam',loss='mean_squared_error')\n",
        "    model.fit(X_train, y_train, epochs=5, batch_size=10,shuffle=True)\n",
        "    y_pred = model.predict(X_val)\n",
        "    \n",
        "    # Calculate the RMSE score as fitness score for GA\n",
        "    rmse = np.sqrt(mean_squared_error(y_val, y_pred))\n",
        "    print('Validation RMSE: ', rmse,'\\n')\n",
        "    \n",
        "    return rmse,"
      ],
      "execution_count": 0,
      "outputs": []
    },
    {
      "cell_type": "markdown",
      "metadata": {
        "id": "-HVvKhrGEXs_",
        "colab_type": "text"
      },
      "source": [
        "#### Evolutionary Model"
      ]
    },
    {
      "cell_type": "code",
      "metadata": {
        "scrolled": false,
        "id": "lzs9dTg3EXtD",
        "colab_type": "code",
        "outputId": "d250fbe9-3946-469e-e7a1-621d5fa634b7",
        "colab": {
          "base_uri": "https://localhost:8080/",
          "height": 1000
        }
      },
      "source": [
        "population_size = 4\n",
        "num_generations = 2\n",
        "gene_length = 10\n",
        "\n",
        "# As we are trying to minimize the RMSE score, that's why using -1.0. \n",
        "# In case, when you want to maximize accuracy for instance, use 1.0\n",
        "creator.create('FitnessMax', base.Fitness, weights = (-1.0,))\n",
        "creator.create('Individual', list , fitness = creator.FitnessMax)\n",
        "\n",
        "toolbox = base.Toolbox()\n",
        "toolbox.register('binary', bernoulli.rvs, 0.5)\n",
        "toolbox.register('individual', tools.initRepeat, creator.Individual, toolbox.binary, n = gene_length)\n",
        "toolbox.register('population', tools.initRepeat, list , toolbox.individual)\n",
        "\n",
        "toolbox.register('mate', tools.cxOrdered)\n",
        "toolbox.register('mutate', tools.mutShuffleIndexes, indpb = 0.6)\n",
        "toolbox.register('select', tools.selRoulette)\n",
        "toolbox.register('evaluate', train_evaluate)\n",
        "\n",
        "population = toolbox.population(n = population_size)\n",
        "r = algorithms.eaSimple(population, toolbox, cxpb = 0.4, mutpb = 0.1, ngen = num_generations, verbose = False)"
      ],
      "execution_count": 0,
      "outputs": [
        {
          "output_type": "stream",
          "text": [
            "\n",
            "Window Size:  36 , Num of Units:  2\n",
            "WARNING:tensorflow:From /usr/local/lib/python3.6/dist-packages/tensorflow/python/ops/init_ops.py:1251: calling VarianceScaling.__init__ (from tensorflow.python.ops.init_ops) with dtype is deprecated and will be removed in a future version.\n",
            "Instructions for updating:\n",
            "Call initializer instance with the dtype argument instead of passing it to the constructor\n",
            "WARNING:tensorflow:From /usr/local/lib/python3.6/dist-packages/tensorflow/python/ops/math_grad.py:1250: add_dispatch_support.<locals>.wrapper (from tensorflow.python.ops.array_ops) is deprecated and will be removed in a future version.\n",
            "Instructions for updating:\n",
            "Use tf.where in 2.0, which has the same broadcast rule as np.where\n",
            "Epoch 1/5\n",
            "13776/13776 [==============================] - 115s 8ms/sample - loss: 0.0407\n",
            "Epoch 2/5\n",
            "13776/13776 [==============================] - 111s 8ms/sample - loss: 0.0101\n",
            "Epoch 3/5\n",
            "13776/13776 [==============================] - 111s 8ms/sample - loss: 0.0071\n",
            "Epoch 4/5\n",
            "13776/13776 [==============================] - 110s 8ms/sample - loss: 0.0060\n",
            "Epoch 5/5\n",
            "13776/13776 [==============================] - 111s 8ms/sample - loss: 0.0058\n",
            "Validation RMSE:  0.07588750465404542 \n",
            "\n",
            "\n",
            "Window Size:  56 , Num of Units:  8\n",
            "Epoch 1/5\n",
            "13760/13760 [==============================] - 168s 12ms/sample - loss: 0.0110\n",
            "Epoch 2/5\n",
            "13760/13760 [==============================] - 166s 12ms/sample - loss: 0.0061\n",
            "Epoch 3/5\n",
            "13760/13760 [==============================] - 166s 12ms/sample - loss: 0.0058\n",
            "Epoch 4/5\n",
            "13760/13760 [==============================] - 167s 12ms/sample - loss: 0.0057\n",
            "Epoch 5/5\n",
            "13760/13760 [==============================] - 167s 12ms/sample - loss: 0.0057\n",
            "Validation RMSE:  0.07389241168958208 \n",
            "\n",
            "\n",
            "Window Size:  60 , Num of Units:  9\n",
            "Epoch 1/5\n",
            "13756/13756 [==============================] - 178s 13ms/sample - loss: 0.0150\n",
            "Epoch 2/5\n",
            "13756/13756 [==============================] - 179s 13ms/sample - loss: 0.0072\n",
            "Epoch 3/5\n",
            "13756/13756 [==============================] - 178s 13ms/sample - loss: 0.0059\n",
            "Epoch 4/5\n",
            "13756/13756 [==============================] - 180s 13ms/sample - loss: 0.0058\n",
            "Epoch 5/5\n",
            "13756/13756 [==============================] - 178s 13ms/sample - loss: 0.0058\n",
            "Validation RMSE:  0.07489780186034921 \n",
            "\n",
            "\n",
            "Window Size:  49 , Num of Units:  9\n",
            "Epoch 1/5\n",
            "13765/13765 [==============================] - 147s 11ms/sample - loss: 0.0192\n",
            "Epoch 2/5\n",
            "13765/13765 [==============================] - 147s 11ms/sample - loss: 0.0074\n",
            "Epoch 3/5\n",
            "13765/13765 [==============================] - 147s 11ms/sample - loss: 0.0060\n",
            "Epoch 4/5\n",
            "13765/13765 [==============================] - 147s 11ms/sample - loss: 0.0059\n",
            "Epoch 5/5\n",
            "13765/13765 [==============================] - 146s 11ms/sample - loss: 0.0058\n",
            "Validation RMSE:  0.07424805956072672 \n",
            "\n",
            "\n",
            "Window Size:  32 , Num of Units:  8\n",
            "Epoch 1/5\n",
            "13779/13779 [==============================] - 98s 7ms/sample - loss: 0.0147\n",
            "Epoch 2/5\n",
            "13779/13779 [==============================] - 98s 7ms/sample - loss: 0.0071\n",
            "Epoch 3/5\n",
            "13779/13779 [==============================] - 98s 7ms/sample - loss: 0.0059\n",
            "Epoch 4/5\n",
            "13779/13779 [==============================] - 100s 7ms/sample - loss: 0.0058\n",
            "Epoch 5/5\n",
            "13779/13779 [==============================] - 100s 7ms/sample - loss: 0.0057\n",
            "Validation RMSE:  0.07401622312381985 \n",
            "\n",
            "\n",
            "Window Size:  41 , Num of Units:  5\n",
            "Epoch 1/5\n",
            "13772/13772 [==============================] - 123s 9ms/sample - loss: 0.0260\n",
            "Epoch 2/5\n",
            "13772/13772 [==============================] - 127s 9ms/sample - loss: 0.0091\n",
            "Epoch 3/5\n",
            "13772/13772 [==============================] - 124s 9ms/sample - loss: 0.0070\n",
            "Epoch 4/5\n",
            "13772/13772 [==============================] - 123s 9ms/sample - loss: 0.0063\n",
            "Epoch 5/5\n",
            "13772/13772 [==============================] - 123s 9ms/sample - loss: 0.0059\n",
            "Validation RMSE:  0.08228421936658176 \n",
            "\n",
            "\n",
            "Window Size:  56 , Num of Units:  8\n",
            "Epoch 1/5\n",
            "13760/13760 [==============================] - 168s 12ms/sample - loss: 0.0100\n",
            "Epoch 2/5\n",
            "13760/13760 [==============================] - 168s 12ms/sample - loss: 0.0060\n",
            "Epoch 3/5\n",
            "13760/13760 [==============================] - 167s 12ms/sample - loss: 0.0057\n",
            "Epoch 4/5\n",
            "13760/13760 [==============================] - 167s 12ms/sample - loss: 0.0057\n",
            "Epoch 5/5\n",
            "13760/13760 [==============================] - 169s 12ms/sample - loss: 0.0057\n",
            "Validation RMSE:  0.07456196034209399 \n",
            "\n",
            "\n",
            "Window Size:  56 , Num of Units:  8\n",
            "Epoch 1/5\n",
            "13760/13760 [==============================] - 171s 12ms/sample - loss: 0.0162\n",
            "Epoch 2/5\n",
            "13760/13760 [==============================] - 169s 12ms/sample - loss: 0.0065\n",
            "Epoch 3/5\n",
            "13760/13760 [==============================] - 168s 12ms/sample - loss: 0.0058\n",
            "Epoch 4/5\n",
            "13760/13760 [==============================] - 169s 12ms/sample - loss: 0.0057\n",
            "Epoch 5/5\n",
            "13760/13760 [==============================] - 169s 12ms/sample - loss: 0.0057\n",
            "Validation RMSE:  0.07518682223367237 \n",
            "\n",
            "\n",
            "Window Size:  57 , Num of Units:  5\n",
            "Epoch 1/5\n",
            "13759/13759 [==============================] - 172s 13ms/sample - loss: 0.0260\n",
            "Epoch 2/5\n",
            "13759/13759 [==============================] - 170s 12ms/sample - loss: 0.0089\n",
            "Epoch 3/5\n",
            "13759/13759 [==============================] - 169s 12ms/sample - loss: 0.0065\n",
            "Epoch 4/5\n",
            "13759/13759 [==============================] - 168s 12ms/sample - loss: 0.0058\n",
            "Epoch 5/5\n",
            " 9440/13759 [===================>..........] - ETA: 52s - loss: 0.0058Buffered data was truncated after reaching the output size limit."
          ],
          "name": "stdout"
        }
      ]
    },
    {
      "cell_type": "markdown",
      "metadata": {
        "id": "asFxTbP6EXtG",
        "colab_type": "text"
      },
      "source": [
        "#### Print top N solutions - (1st only, for now)"
      ]
    },
    {
      "cell_type": "code",
      "metadata": {
        "id": "gU-VdzO0EXtH",
        "colab_type": "code",
        "outputId": "01f6bfc8-3485-41e5-f6a2-bc4e2997bdb7",
        "colab": {
          "base_uri": "https://localhost:8080/",
          "height": 51
        }
      },
      "source": [
        "best_individuals = tools.selBest(population,k = 1)\n",
        "best_window_size = None\n",
        "best_num_units = None\n",
        "\n",
        "for bi in best_individuals:\n",
        "    window_size_bits = BitArray(bi[0:6])\n",
        "    num_units_bits = BitArray(bi[6:]) \n",
        "    best_window_size = window_size_bits.uint\n",
        "    best_num_units = num_units_bits.uint\n",
        "    print('\\nWindow Size: ', best_window_size, ', Num of Units: ', best_num_units)"
      ],
      "execution_count": 0,
      "outputs": [
        {
          "output_type": "stream",
          "text": [
            "\n",
            "Window Size:  56 , Num of Units:  8\n"
          ],
          "name": "stdout"
        }
      ]
    },
    {
      "cell_type": "markdown",
      "metadata": {
        "id": "xZBaQ4GOEXtM",
        "colab_type": "text"
      },
      "source": [
        "#### Train the model using best configuration on complete training set and make predictions on the test set"
      ]
    },
    {
      "cell_type": "code",
      "metadata": {
        "id": "0Pv_IgVaEXtO",
        "colab_type": "code",
        "outputId": "24d45efe-9c32-42b8-e0d1-6ee1daa5c9d0",
        "colab": {
          "base_uri": "https://localhost:8080/",
          "height": 204
        }
      },
      "source": [
        "X_train,y_train = prepare_dataset(train_data,best_window_size)\n",
        "X_test, y_test = prepare_dataset(test_data,best_window_size)\n",
        "\n",
        "inputs = Input(shape=(best_window_size,1))\n",
        "x = LSTM(best_num_units, input_shape=(best_window_size,1))(inputs)\n",
        "predictions = Dense(1, activation='linear')(x)\n",
        "model = Model(inputs = inputs, outputs = predictions)\n",
        "model.compile(optimizer='adam',loss='mean_squared_error')\n",
        "model.fit(X_train, y_train, epochs=5, batch_size=10,shuffle=True)\n",
        "y_pred = model.predict(X_test)\n",
        "\n",
        "rmse = np.sqrt(mean_squared_error(y_test, y_pred))\n",
        "print('Test RMSE: ', rmse)"
      ],
      "execution_count": 0,
      "outputs": [
        {
          "output_type": "stream",
          "text": [
            "Epoch 1/5\n",
            "17200/17200 [==============================] - 207s 12ms/sample - loss: 0.0096\n",
            "Epoch 2/5\n",
            "17200/17200 [==============================] - 202s 12ms/sample - loss: 0.0059\n",
            "Epoch 3/5\n",
            "17200/17200 [==============================] - 202s 12ms/sample - loss: 0.0058\n",
            "Epoch 4/5\n",
            "17200/17200 [==============================] - 200s 12ms/sample - loss: 0.0057\n",
            "Epoch 5/5\n",
            "17200/17200 [==============================] - 200s 12ms/sample - loss: 0.0057\n",
            "Test RMSE:  0.0926447226146452\n"
          ],
          "name": "stdout"
        }
      ]
    }
  ]
}