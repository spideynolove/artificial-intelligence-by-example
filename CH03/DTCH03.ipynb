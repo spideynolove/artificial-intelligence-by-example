{
  "nbformat": 4,
  "nbformat_minor": 0,
  "metadata": {
    "colab": {
      "name": "DTCH03.ipynb",
      "provenance": [],
      "collapsed_sections": []
    },
    "kernelspec": {
      "name": "python3",
      "display_name": "Python 3"
    }
  },
  "cells": [
    {
      "cell_type": "code",
      "metadata": {
        "id": "vZUi2Iecc-0K",
        "colab_type": "code",
        "outputId": "8266e4fa-f1dc-467f-9cd4-b93f600ffb78",
        "colab": {
          "base_uri": "https://localhost:8080/",
          "height": 136
        }
      },
      "source": [
        "# Decision Tree example for warehouse priority classification\n",
        "# Copyright 2019 Denis Rothman MIT License. See LICENSE.\n",
        "#import sklearn # for version check sklearn version 0.21.3\n",
        "#print(\"sklearn version\",sklearn.__version__) \n",
        "\n",
        "\n",
        "from sklearn import tree\n",
        "\n",
        "\n",
        "# DECISION TREE LEARNING :DECISION TREE CLASSIFIER\n",
        "#https://en.wikipedia.org/wiki/Decision_tree_learning\n",
        " \n",
        "# 1. Data Collection created from the value of each O1 location in\n",
        "#    the warehouse sample based on 3 features:\n",
        "#  a) priority/location weight which bears a heavy weight to make a decison because of the cost of transporting distances\n",
        "#  b) a volume priority weight which is set to 1 because in the weights were alrady measured to create reward matrix\n",
        "#  c) high or low probablities determined by an optimization factor. For this example, distance\n",
        "\n",
        "# 2.Providing the features of the dataset\n",
        "features = [ 'Priority/location', 'Volume', 'Flow_optimizer' ]\n",
        "\n",
        "Y = ['Low', 'Low', 'High', 'High', 'Low', 'Low']    \n",
        "\n",
        "# 3. The data itself extracted from the result matrix\n",
        "X = [ [256, 1,0],     \n",
        "      [320, 1,0],\n",
        "      [500, 1,1],\n",
        "      [400, 1,0],\n",
        "      [320, 1,0],\n",
        "      [256, 1,0]]\n",
        " \n",
        "# 4. Running the standard inbuilt tree classifier\n",
        "classify = tree.DecisionTreeClassifier()\n",
        "classify = classify.fit(X,Y)\n",
        "print(classify)\n",
        "\n",
        "# 5.Producing visualization (optional)\n",
        "import collections       # from Python library container datatypes\n",
        "import pydotplus         # a Python Interface to Graphviz’s Dot language.(dot-V command line for version) Graphviz version 2.40.1  https://pypi.org/project/pydotplus/\n",
        "\n",
        "info = tree.export_graphviz(classify,feature_names=features,out_file=None,filled=True,rounded=True)\n",
        "graph = pydotplus.graph_from_dot_data(info)\n",
        " \n",
        "edges = collections.defaultdict(list) \n",
        "for edge in graph.get_edge_list():\n",
        "    edges[edge.get_source()].append(int(edge.get_destination()))\n",
        " \n",
        "for edge in edges:\n",
        "    edges[edge].sort()    \n",
        "    for i in range(2):\n",
        "        dest = graph.get_node(str(edges[edge][i]))[0] \n",
        "\n",
        "graph.write_png('warehouse_example_decision_tree.png')\n",
        "print(\"Open the image to verify that the priority level fits the reality of the reward matrix inputs\")\n",
        "      \n"
      ],
      "execution_count": 1,
      "outputs": [
        {
          "output_type": "stream",
          "text": [
            "DecisionTreeClassifier(class_weight=None, criterion='gini', max_depth=None,\n",
            "                       max_features=None, max_leaf_nodes=None,\n",
            "                       min_impurity_decrease=0.0, min_impurity_split=None,\n",
            "                       min_samples_leaf=1, min_samples_split=2,\n",
            "                       min_weight_fraction_leaf=0.0, presort=False,\n",
            "                       random_state=None, splitter='best')\n",
            "Open the image to verify that the priority level fits the reality of the reward matrix inputs\n"
          ],
          "name": "stdout"
        }
      ]
    }
  ]
}